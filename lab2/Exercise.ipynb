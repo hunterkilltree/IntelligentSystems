{
 "cells": [
  {
   "cell_type": "code",
   "execution_count": 1,
   "metadata": {},
   "outputs": [],
   "source": [
    "import pandas as pd\n",
    "import numpy as np\n",
    "import matplotlib.pyplot as plt\n",
    "# %matplitlib inline #  will make your plot outputs appear and be stored within the notebook. \n",
    "from math import sqrt\n",
    "import sys, os\n",
    "from contextlib import contextmanager\n",
    "import matplotlib as mpl\n",
    "import seaborn as sns\n",
    "import sklearn"
   ]
  },
  {
   "cell_type": "markdown",
   "metadata": {},
   "source": [
    "### climate_data.csv, predict the \"LandAverageTemperature\" of year 2015 "
   ]
  },
  {
   "cell_type": "code",
   "execution_count": 2,
   "metadata": {},
   "outputs": [
    {
     "data": {
      "text/html": [
       "<div>\n",
       "<style scoped>\n",
       "    .dataframe tbody tr th:only-of-type {\n",
       "        vertical-align: middle;\n",
       "    }\n",
       "\n",
       "    .dataframe tbody tr th {\n",
       "        vertical-align: top;\n",
       "    }\n",
       "\n",
       "    .dataframe thead th {\n",
       "        text-align: right;\n",
       "    }\n",
       "</style>\n",
       "<table border=\"1\" class=\"dataframe\">\n",
       "  <thead>\n",
       "    <tr style=\"text-align: right;\">\n",
       "      <th></th>\n",
       "      <th>dt</th>\n",
       "      <th>LandAverageTemperature</th>\n",
       "    </tr>\n",
       "  </thead>\n",
       "  <tbody>\n",
       "    <tr>\n",
       "      <th>0</th>\n",
       "      <td>1/1/2010</td>\n",
       "      <td>3.737</td>\n",
       "    </tr>\n",
       "    <tr>\n",
       "      <th>1</th>\n",
       "      <td>2/1/2010</td>\n",
       "      <td>4.399</td>\n",
       "    </tr>\n",
       "    <tr>\n",
       "      <th>2</th>\n",
       "      <td>3/1/2010</td>\n",
       "      <td>6.738</td>\n",
       "    </tr>\n",
       "    <tr>\n",
       "      <th>3</th>\n",
       "      <td>4/1/2010</td>\n",
       "      <td>9.671</td>\n",
       "    </tr>\n",
       "    <tr>\n",
       "      <th>4</th>\n",
       "      <td>5/1/2010</td>\n",
       "      <td>12.406</td>\n",
       "    </tr>\n",
       "    <tr>\n",
       "      <th>5</th>\n",
       "      <td>6/1/2010</td>\n",
       "      <td>14.421</td>\n",
       "    </tr>\n",
       "    <tr>\n",
       "      <th>6</th>\n",
       "      <td>7/1/2010</td>\n",
       "      <td>15.213</td>\n",
       "    </tr>\n",
       "    <tr>\n",
       "      <th>7</th>\n",
       "      <td>8/1/2010</td>\n",
       "      <td>14.768</td>\n",
       "    </tr>\n",
       "    <tr>\n",
       "      <th>8</th>\n",
       "      <td>9/1/2010</td>\n",
       "      <td>12.863</td>\n",
       "    </tr>\n",
       "    <tr>\n",
       "      <th>9</th>\n",
       "      <td>10/1/2010</td>\n",
       "      <td>10.442</td>\n",
       "    </tr>\n",
       "  </tbody>\n",
       "</table>\n",
       "</div>"
      ],
      "text/plain": [
       "          dt  LandAverageTemperature\n",
       "0   1/1/2010                   3.737\n",
       "1   2/1/2010                   4.399\n",
       "2   3/1/2010                   6.738\n",
       "3   4/1/2010                   9.671\n",
       "4   5/1/2010                  12.406\n",
       "5   6/1/2010                  14.421\n",
       "6   7/1/2010                  15.213\n",
       "7   8/1/2010                  14.768\n",
       "8   9/1/2010                  12.863\n",
       "9  10/1/2010                  10.442"
      ]
     },
     "execution_count": 2,
     "metadata": {},
     "output_type": "execute_result"
    }
   ],
   "source": [
    "df = pd.read_csv('./data/climate_data.csv')\n",
    "df.head(10)"
   ]
  },
  {
   "cell_type": "markdown",
   "metadata": {},
   "source": [
    "#### Using moving average with suitable k."
   ]
  },
  {
   "cell_type": "code",
   "execution_count": 49,
   "metadata": {},
   "outputs": [
    {
     "data": {
      "image/png": "[encoded data removed]",
      "text/plain": [
       "<Figure size 432x288 with 1 Axes>"
      ]
     },
     "metadata": {
      "needs_background": "light"
     },
     "output_type": "display_data"
    }
   ],
   "source": [
    "import seaborn as sns\n",
    "\n",
    "def moving_average(df, k, to_date):\n",
    "    moving_average_df = pd.DataFrame(columns=['dt', 'LandAverageTemperature'])\n",
    "    num_df = len(df)\n",
    "    for m in range(0, to_date):\n",
    "        if m < k:\n",
    "            temp_predict = float('nan')\n",
    "        else:\n",
    "            history = df['LandAverageTemperature'][m-k:m]\n",
    "            temp_predict = history.mean()\n",
    "        moving_average_df.loc[m] = [m+1, temp_predict]\n",
    "        \n",
    "    moving_average_df['dt'] = moving_average_df['dt'].astype(int)\n",
    "    return moving_average_df\n",
    "\n",
    "f, ax = plt.subplots(1, 1)\n",
    "## Assume k = 1\n",
    "ma_df = moving_average(df, 1, 10)\n",
    "sns.pointplot(x='dt', y='LandAverageTemperature', data=df, color='b')\n",
    "sns.pointplot(x='dt', y='LandAverageTemperature', data=ma_df, color='g')\n",
    "ax.legend(handles=ax.lines[::len(df)+1], labels=['Actual', 'K-MA'])\n",
    "plt.show()\n"
   ]
  },
  {
   "cell_type": "code",
   "execution_count": null,
   "metadata": {},
   "outputs": [],
   "source": []
  },
  {
   "cell_type": "markdown",
   "metadata": {},
   "source": [
    "#### Using linear regression"
   ]
  },
  {
   "cell_type": "code",
   "execution_count": 73,
   "metadata": {},
   "outputs": [
    {
     "data": {
      "text/plain": [
       "<matplotlib.legend.Legend at 0x1dd7b220bc8>"
      ]
     },
     "execution_count": 73,
     "metadata": {},
     "output_type": "execute_result"
    },
    {
     "data": {
      "image/png": "[encoded data removed]",
      "text/plain": [
       "<Figure size 432x288 with 1 Axes>"
      ]
     },
     "metadata": {
      "needs_background": "light"
     },
     "output_type": "display_data"
    }
   ],
   "source": [
    "# https://stackoverflow.com/questions/40217369/python-linear-regression-predict-by-date\n",
    "import seaborn as sns\n",
    "import datetime as dt\n",
    "\n",
    "def linear_regression(df):\n",
    "    linear_df = df.copy()\n",
    "    '''\n",
    "    Linear regression doesn't work on date data. \n",
    "    Therefore we need to convert it into numerical value.\n",
    "    The following code will convert the date into numerical value:\n",
    "    '''\n",
    "    linear_df['dt'] = pd.to_datetime(linear_df['dt'])\n",
    "    linear_df['dt']= linear_df['dt'].map(dt.datetime.toordinal)\n",
    "    \n",
    "#     print(linear_df['dt'] )\n",
    "    \n",
    "    linear_df['dtLandAverageTemperature'] = linear_df['dt'] * linear_df['LandAverageTemperature']\n",
    "    linear_df['dt_2'] = linear_df['dt'] * linear_df['dt']\n",
    "    linear_df['LandAverageTemperature_2'] = linear_df['LandAverageTemperature'] \\\n",
    "                                            * linear_df['LandAverageTemperature']\n",
    "    linear_sum = linear_df.sum()\n",
    "    linear_mean = linear_df.mean()\n",
    "    \n",
    "    b = (linear_sum['dtLandAverageTemperature'] - len(df) * linear_mean['dt'] \\\n",
    "         * linear_mean['LandAverageTemperature'] ) \\\n",
    "         / (linear_sum['LandAverageTemperature_2'] - len(df) * linear_mean['LandAverageTemperature_2'] \\\n",
    "         * linear_mean['LandAverageTemperature_2'])\n",
    "    \n",
    "    a = linear_mean['LandAverageTemperature'] - b * linear_mean['dt']\n",
    "#     print(linear_mean['dt'])\n",
    "    return a, b\n",
    "\n",
    "a,b = linear_regression(df)\n",
    "\n",
    "linear_df = pd.DataFrame(columns=['dt', 'LandAverageTemperature'])\n",
    "for m in range(1, 17):\n",
    "    sale = a + b * m\n",
    "    linear_df.loc[m-1] = [m,sale]\n",
    "linear_df['dt'] = linear_df['dt']\n",
    "\n",
    "f, ax = plt.subplots(1, 1)\n",
    "sns.pointplot(ax=ax, x='dt', y='LandAverageTemperature', data=df, color='b')\n",
    "sns.pointplot(ax=ax, x='dt', y='LandAverageTemperature', data=linear_df, color='g')\n",
    "\n",
    "ax.legend(handles=ax.lines[::len(df)+2], labels=['Actual', 'Linear Regr'])"
   ]
  },
  {
   "cell_type": "code",
   "execution_count": null,
   "metadata": {},
   "outputs": [],
   "source": []
  },
  {
   "cell_type": "markdown",
   "metadata": {},
   "source": [
    "### The ground-truth of the climate data can be found in actual_climate.csv"
   ]
  },
  {
   "cell_type": "code",
   "execution_count": 76,
   "metadata": {},
   "outputs": [],
   "source": [
    "eval_df = pd.read_csv('./data/actual_climate.csv')"
   ]
  },
  {
   "cell_type": "code",
   "execution_count": 77,
   "metadata": {},
   "outputs": [
    {
     "data": {
      "text/html": [
       "<div>\n",
       "<style scoped>\n",
       "    .dataframe tbody tr th:only-of-type {\n",
       "        vertical-align: middle;\n",
       "    }\n",
       "\n",
       "    .dataframe tbody tr th {\n",
       "        vertical-align: top;\n",
       "    }\n",
       "\n",
       "    .dataframe thead th {\n",
       "        text-align: right;\n",
       "    }\n",
       "</style>\n",
       "<table border=\"1\" class=\"dataframe\">\n",
       "  <thead>\n",
       "    <tr style=\"text-align: right;\">\n",
       "      <th></th>\n",
       "      <th>1/1/2015</th>\n",
       "      <th>3.881</th>\n",
       "    </tr>\n",
       "  </thead>\n",
       "  <tbody>\n",
       "    <tr>\n",
       "      <th>0</th>\n",
       "      <td>2/1/2015</td>\n",
       "      <td>4.664</td>\n",
       "    </tr>\n",
       "    <tr>\n",
       "      <th>1</th>\n",
       "      <td>3/1/2015</td>\n",
       "      <td>6.740</td>\n",
       "    </tr>\n",
       "    <tr>\n",
       "      <th>2</th>\n",
       "      <td>4/1/2015</td>\n",
       "      <td>9.313</td>\n",
       "    </tr>\n",
       "    <tr>\n",
       "      <th>3</th>\n",
       "      <td>5/1/2015</td>\n",
       "      <td>12.312</td>\n",
       "    </tr>\n",
       "    <tr>\n",
       "      <th>4</th>\n",
       "      <td>6/1/2015</td>\n",
       "      <td>14.505</td>\n",
       "    </tr>\n",
       "    <tr>\n",
       "      <th>5</th>\n",
       "      <td>7/1/2015</td>\n",
       "      <td>15.051</td>\n",
       "    </tr>\n",
       "    <tr>\n",
       "      <th>6</th>\n",
       "      <td>8/1/2015</td>\n",
       "      <td>14.755</td>\n",
       "    </tr>\n",
       "    <tr>\n",
       "      <th>7</th>\n",
       "      <td>9/1/2015</td>\n",
       "      <td>12.999</td>\n",
       "    </tr>\n",
       "    <tr>\n",
       "      <th>8</th>\n",
       "      <td>10/1/2015</td>\n",
       "      <td>10.801</td>\n",
       "    </tr>\n",
       "    <tr>\n",
       "      <th>9</th>\n",
       "      <td>11/1/2015</td>\n",
       "      <td>7.433</td>\n",
       "    </tr>\n",
       "  </tbody>\n",
       "</table>\n",
       "</div>"
      ],
      "text/plain": [
       "    1/1/2015   3.881\n",
       "0   2/1/2015   4.664\n",
       "1   3/1/2015   6.740\n",
       "2   4/1/2015   9.313\n",
       "3   5/1/2015  12.312\n",
       "4   6/1/2015  14.505\n",
       "5   7/1/2015  15.051\n",
       "6   8/1/2015  14.755\n",
       "7   9/1/2015  12.999\n",
       "8  10/1/2015  10.801\n",
       "9  11/1/2015   7.433"
      ]
     },
     "execution_count": 77,
     "metadata": {},
     "output_type": "execute_result"
    }
   ],
   "source": [
    "eval_df.head(10)"
   ]
  },
  {
   "cell_type": "markdown",
   "metadata": {},
   "source": [
    "#### Visualize the ground-truth"
   ]
  },
  {
   "cell_type": "code",
   "execution_count": 78,
   "metadata": {},
   "outputs": [
    {
     "data": {
      "text/plain": [
       "<matplotlib.axes._subplots.AxesSubplot at 0x1dd7b3f8848>"
      ]
     },
     "execution_count": 78,
     "metadata": {},
     "output_type": "execute_result"
    },
    {
     "data": {
      "image/png": "[encoded data removed]",
      "text/plain": [
       "<Figure size 432x288 with 1 Axes>"
      ]
     },
     "metadata": {
      "needs_background": "light"
     },
     "output_type": "display_data"
    }
   ],
   "source": [
    "sns.pointplot(x='1/1/2015', y='3.881', data=eval_df, color='b')"
   ]
  },
  {
   "cell_type": "markdown",
   "metadata": {},
   "source": [
    "#### Compare the accuracy of above methods"
   ]
  },
  {
   "cell_type": "code",
   "execution_count": null,
   "metadata": {},
   "outputs": [],
   "source": [
    "### Not yet"
   ]
  }
 ],
 "metadata": {
  "kernelspec": {
   "display_name": "Python 3",
   "language": "python",
   "name": "python3"
  },
  "language_info": {
   "codemirror_mode": {
    "name": "ipython",
    "version": 3
   },
   "file_extension": ".py",
   "mimetype": "text/x-python",
   "name": "python",
   "nbconvert_exporter": "python",
   "pygments_lexer": "ipython3",
   "version": "3.7.6"
  }
 },
 "nbformat": 4,
 "nbformat_minor": 4
}
